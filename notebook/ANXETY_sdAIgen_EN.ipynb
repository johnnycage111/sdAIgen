{
  "cells": [
    {
      "cell_type": "code",
      "execution_count": null,
      "metadata": {
        "cellView": "form",
        "id": "8N4HG-KOCVxE"
      },
      "outputs": [],
      "source": [
        "# @title Setup Environment.\n",
        "from pathlib import Path\n",
        "import os\n",
        "\n",
        "lang, branch = 'en', 'main'\n",
        "scripts_dir = Path.home() / 'ANXETY' / 'scripts'\n",
        "out = scripts_dir / lang / f'setup-{lang}.py'\n",
        "\n",
        "os.makedirs(out.parent, exist_ok=True)\n",
        "!curl -sLo {out} https://raw.githubusercontent.com/johnnycage111/sdAIgen/{branch}/scripts/{lang}/setup-{lang}.py\n",
        "\n",
        "%run $out --lang=$lang --branch=$branch"
      ]
    },
    {
      "cell_type": "markdown",
      "metadata": {
        "id": "u3ItiVM_ti1w"
      },
      "source": [
        "---\n",
        "## 1. Widgets 🔽"
      ]
    },
    {
      "cell_type": "code",
      "execution_count": null,
      "metadata": {
        "id": "wA4aTRootj2j"
      },
      "outputs": [],
      "source": [
        "# Model selection, vae, control-net and more.\n",
        "%run $scripts_dir/$lang/widgets-{lang}.py"
      ]
    },
    {
      "cell_type": "markdown",
      "metadata": {
        "id": "7AHNls08xcdg"
      },
      "source": [
        "## 2. Downloading 🔽"
      ]
    },
    {
      "cell_type": "code",
      "execution_count": null,
      "metadata": {
        "id": "1Ev_2hDOxdUs"
      },
      "outputs": [],
      "source": [
        "# Downloading libraries, repos, models and more.\n",
        "%run $scripts_dir/$lang/downloading-{lang}.py"
      ]
    },
    {
      "cell_type": "markdown",
      "metadata": {
        "id": "E7pT9VX93OzP"
      },
      "source": [
        "## 3. Start 🔽"
      ]
    },
    {
      "cell_type": "code",
      "execution_count": null,
      "metadata": {
        "id": "JKBfIlxi3Rzt"
      },
      "outputs": [],
      "source": [
        "# Launch WebUI.\n",
        "%run $scripts_dir/launch.py"
      ]
    },
    {
      "cell_type": "markdown",
      "metadata": {
        "id": "eWU2gAB-3oyP"
      },
      "source": [
        "---\n",
        "# Utilities"
      ]
    },
    {
      "cell_type": "code",
      "execution_count": null,
      "metadata": {
        "id": "72s_GVIa3pyS"
      },
      "outputs": [],
      "source": [
        "# Run AutoCleaner.\n",
        "%run $scripts_dir/auto-cleaner.py"
      ]
    }
  ],
  "metadata": {
    "accelerator": "GPU",
    "colab": {
      "gpuType": "T4",
      "provenance": []
    },
    "kernelspec": {
      "display_name": "Python 3",
      "name": "python3"
    },
    "language_info": {
      "name": "python"
    }
  },
  "nbformat": 4,
  "nbformat_minor": 0
}
